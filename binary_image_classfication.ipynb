{
  "nbformat": 4,
  "nbformat_minor": 0,
  "metadata": {
    "colab": {
      "provenance": []
    },
    "kernelspec": {
      "name": "python3",
      "display_name": "Python 3"
    },
    "language_info": {
      "name": "python"
    }
  },
  "cells": [
    {
      "cell_type": "code",
      "execution_count": null,
      "metadata": {
        "colab": {
          "base_uri": "https://localhost:8080/",
          "height": 71
        },
        "id": "_I3rHY_rKJ2f",
        "outputId": "ce494478-f1c3-4ba5-c827-d0885e45a21a"
      },
      "outputs": [
        {
          "output_type": "display_data",
          "data": {
            "text/plain": [
              "<IPython.core.display.HTML object>"
            ],
            "text/html": [
              "\n",
              "     <input type=\"file\" id=\"files-891ad238-46ff-49c6-b9e5-a9e1f5fc9c99\" name=\"files[]\" multiple disabled\n",
              "        style=\"border:none\" />\n",
              "     <output id=\"result-891ad238-46ff-49c6-b9e5-a9e1f5fc9c99\">\n",
              "      Upload widget is only available when the cell has been executed in the\n",
              "      current browser session. Please rerun this cell to enable.\n",
              "      </output>\n",
              "      <script>// Copyright 2017 Google LLC\n",
              "//\n",
              "// Licensed under the Apache License, Version 2.0 (the \"License\");\n",
              "// you may not use this file except in compliance with the License.\n",
              "// You may obtain a copy of the License at\n",
              "//\n",
              "//      http://www.apache.org/licenses/LICENSE-2.0\n",
              "//\n",
              "// Unless required by applicable law or agreed to in writing, software\n",
              "// distributed under the License is distributed on an \"AS IS\" BASIS,\n",
              "// WITHOUT WARRANTIES OR CONDITIONS OF ANY KIND, either express or implied.\n",
              "// See the License for the specific language governing permissions and\n",
              "// limitations under the License.\n",
              "\n",
              "/**\n",
              " * @fileoverview Helpers for google.colab Python module.\n",
              " */\n",
              "(function(scope) {\n",
              "function span(text, styleAttributes = {}) {\n",
              "  const element = document.createElement('span');\n",
              "  element.textContent = text;\n",
              "  for (const key of Object.keys(styleAttributes)) {\n",
              "    element.style[key] = styleAttributes[key];\n",
              "  }\n",
              "  return element;\n",
              "}\n",
              "\n",
              "// Max number of bytes which will be uploaded at a time.\n",
              "const MAX_PAYLOAD_SIZE = 100 * 1024;\n",
              "\n",
              "function _uploadFiles(inputId, outputId) {\n",
              "  const steps = uploadFilesStep(inputId, outputId);\n",
              "  const outputElement = document.getElementById(outputId);\n",
              "  // Cache steps on the outputElement to make it available for the next call\n",
              "  // to uploadFilesContinue from Python.\n",
              "  outputElement.steps = steps;\n",
              "\n",
              "  return _uploadFilesContinue(outputId);\n",
              "}\n",
              "\n",
              "// This is roughly an async generator (not supported in the browser yet),\n",
              "// where there are multiple asynchronous steps and the Python side is going\n",
              "// to poll for completion of each step.\n",
              "// This uses a Promise to block the python side on completion of each step,\n",
              "// then passes the result of the previous step as the input to the next step.\n",
              "function _uploadFilesContinue(outputId) {\n",
              "  const outputElement = document.getElementById(outputId);\n",
              "  const steps = outputElement.steps;\n",
              "\n",
              "  const next = steps.next(outputElement.lastPromiseValue);\n",
              "  return Promise.resolve(next.value.promise).then((value) => {\n",
              "    // Cache the last promise value to make it available to the next\n",
              "    // step of the generator.\n",
              "    outputElement.lastPromiseValue = value;\n",
              "    return next.value.response;\n",
              "  });\n",
              "}\n",
              "\n",
              "/**\n",
              " * Generator function which is called between each async step of the upload\n",
              " * process.\n",
              " * @param {string} inputId Element ID of the input file picker element.\n",
              " * @param {string} outputId Element ID of the output display.\n",
              " * @return {!Iterable<!Object>} Iterable of next steps.\n",
              " */\n",
              "function* uploadFilesStep(inputId, outputId) {\n",
              "  const inputElement = document.getElementById(inputId);\n",
              "  inputElement.disabled = false;\n",
              "\n",
              "  const outputElement = document.getElementById(outputId);\n",
              "  outputElement.innerHTML = '';\n",
              "\n",
              "  const pickedPromise = new Promise((resolve) => {\n",
              "    inputElement.addEventListener('change', (e) => {\n",
              "      resolve(e.target.files);\n",
              "    });\n",
              "  });\n",
              "\n",
              "  const cancel = document.createElement('button');\n",
              "  inputElement.parentElement.appendChild(cancel);\n",
              "  cancel.textContent = 'Cancel upload';\n",
              "  const cancelPromise = new Promise((resolve) => {\n",
              "    cancel.onclick = () => {\n",
              "      resolve(null);\n",
              "    };\n",
              "  });\n",
              "\n",
              "  // Wait for the user to pick the files.\n",
              "  const files = yield {\n",
              "    promise: Promise.race([pickedPromise, cancelPromise]),\n",
              "    response: {\n",
              "      action: 'starting',\n",
              "    }\n",
              "  };\n",
              "\n",
              "  cancel.remove();\n",
              "\n",
              "  // Disable the input element since further picks are not allowed.\n",
              "  inputElement.disabled = true;\n",
              "\n",
              "  if (!files) {\n",
              "    return {\n",
              "      response: {\n",
              "        action: 'complete',\n",
              "      }\n",
              "    };\n",
              "  }\n",
              "\n",
              "  for (const file of files) {\n",
              "    const li = document.createElement('li');\n",
              "    li.append(span(file.name, {fontWeight: 'bold'}));\n",
              "    li.append(span(\n",
              "        `(${file.type || 'n/a'}) - ${file.size} bytes, ` +\n",
              "        `last modified: ${\n",
              "            file.lastModifiedDate ? file.lastModifiedDate.toLocaleDateString() :\n",
              "                                    'n/a'} - `));\n",
              "    const percent = span('0% done');\n",
              "    li.appendChild(percent);\n",
              "\n",
              "    outputElement.appendChild(li);\n",
              "\n",
              "    const fileDataPromise = new Promise((resolve) => {\n",
              "      const reader = new FileReader();\n",
              "      reader.onload = (e) => {\n",
              "        resolve(e.target.result);\n",
              "      };\n",
              "      reader.readAsArrayBuffer(file);\n",
              "    });\n",
              "    // Wait for the data to be ready.\n",
              "    let fileData = yield {\n",
              "      promise: fileDataPromise,\n",
              "      response: {\n",
              "        action: 'continue',\n",
              "      }\n",
              "    };\n",
              "\n",
              "    // Use a chunked sending to avoid message size limits. See b/62115660.\n",
              "    let position = 0;\n",
              "    do {\n",
              "      const length = Math.min(fileData.byteLength - position, MAX_PAYLOAD_SIZE);\n",
              "      const chunk = new Uint8Array(fileData, position, length);\n",
              "      position += length;\n",
              "\n",
              "      const base64 = btoa(String.fromCharCode.apply(null, chunk));\n",
              "      yield {\n",
              "        response: {\n",
              "          action: 'append',\n",
              "          file: file.name,\n",
              "          data: base64,\n",
              "        },\n",
              "      };\n",
              "\n",
              "      let percentDone = fileData.byteLength === 0 ?\n",
              "          100 :\n",
              "          Math.round((position / fileData.byteLength) * 100);\n",
              "      percent.textContent = `${percentDone}% done`;\n",
              "\n",
              "    } while (position < fileData.byteLength);\n",
              "  }\n",
              "\n",
              "  // All done.\n",
              "  yield {\n",
              "    response: {\n",
              "      action: 'complete',\n",
              "    }\n",
              "  };\n",
              "}\n",
              "\n",
              "scope.google = scope.google || {};\n",
              "scope.google.colab = scope.google.colab || {};\n",
              "scope.google.colab._files = {\n",
              "  _uploadFiles,\n",
              "  _uploadFilesContinue,\n",
              "};\n",
              "})(self);\n",
              "</script> "
            ]
          },
          "metadata": {}
        },
        {
          "output_type": "stream",
          "name": "stdout",
          "text": [
            "Saving Garbage.zip to Garbage.zip\n"
          ]
        }
      ],
      "source": [
        "from google.colab import files\n",
        "uploaded = files.upload()"
      ]
    },
    {
      "cell_type": "code",
      "source": [
        "import zipfile\n",
        "import os\n",
        "\n",
        "# Unzip Garbage.zip\n",
        "with zipfile.ZipFile(\"Garbage.zip\", 'r') as zip_ref:\n",
        "    zip_ref.extractall(\"Garbage\")\n",
        "\n",
        "os.listdir(\"Garbage\")"
      ],
      "metadata": {
        "colab": {
          "base_uri": "https://localhost:8080/"
        },
        "id": "fwa0kThRPA4t",
        "outputId": "f4c9a8b0-6da2-4883-ec6b-0dfab9cdd4e7"
      },
      "execution_count": null,
      "outputs": [
        {
          "output_type": "execute_result",
          "data": {
            "text/plain": [
              "['Garbage']"
            ]
          },
          "metadata": {},
          "execution_count": 2
        }
      ]
    },
    {
      "cell_type": "code",
      "source": [
        "import cv2\n",
        "from glob import glob\n",
        "\n",
        "def resize_images(folder_path, size=(128, 128)):\n",
        "    categories = os.listdir(folder_path)\n",
        "    for category in categories:\n",
        "        img_paths = glob(os.path.join(folder_path, category, '*.jpg'))\n",
        "        for img_path in img_paths:\n",
        "            try:\n",
        "                img = cv2.imread(img_path)\n",
        "                if img is not None:\n",
        "                    img = cv2.resize(img, size)\n",
        "                    cv2.imwrite(img_path, img)\n",
        "            except Exception as e:\n",
        "                print(f\"Error processing {img_path}: {e}\")\n",
        "\n",
        "resize_images(\"Garbage\")"
      ],
      "metadata": {
        "id": "e8SQQZXGPMQH"
      },
      "execution_count": null,
      "outputs": []
    },
    {
      "cell_type": "code",
      "source": [
        "import numpy as np\n",
        "\n",
        "def load_images_and_labels(folder_path, size=(128, 128)):\n",
        "    X = []\n",
        "    y = []\n",
        "    labels = {'Trash': 0, 'Recyclable': 1}\n",
        "    nested_folder_path = os.path.join(folder_path, os.listdir(folder_path)[0])\n",
        "\n",
        "    for label_name in labels:\n",
        "        path = os.path.join(nested_folder_path, label_name)\n",
        "        for img_name in os.listdir(path):\n",
        "            img_path = os.path.join(path, img_name)\n",
        "            img = cv2.imread(img_path)\n",
        "            if img is not None:\n",
        "                img = cv2.resize(img, size)\n",
        "                X.append(img)\n",
        "                y.append(labels[label_name])\n",
        "    return np.array(X), np.array(y)\n",
        "\n",
        "X, y = load_images_and_labels(\"Garbage\")\n",
        "print(\"Total images loaded:\", len(X))"
      ],
      "metadata": {
        "colab": {
          "base_uri": "https://localhost:8080/"
        },
        "id": "gkm5oQyAPwXY",
        "outputId": "0945ca41-9f02-4204-f0fc-570a7d577084"
      },
      "execution_count": null,
      "outputs": [
        {
          "output_type": "stream",
          "name": "stdout",
          "text": [
            "Total images loaded: 240\n"
          ]
        }
      ]
    },
    {
      "cell_type": "markdown",
      "source": [
        "HOG"
      ],
      "metadata": {
        "id": "l0YAfJq3Y9K7"
      }
    },
    {
      "cell_type": "code",
      "source": [
        "from skimage.feature import hog\n",
        "\n",
        "def extract_hog_features(images):\n",
        "    hog_features = []\n",
        "    for img in images:\n",
        "        feature = hog(img, pixels_per_cell=(16, 16), cells_per_block=(2, 2), orientations=9, block_norm='L2-Hys', channel_axis=-1)\n",
        "        hog_features.append(feature)\n",
        "    return np.array(hog_features)\n",
        "\n",
        "X_hog = extract_hog_features(X)\n",
        "print(\"HOG feature shape:\", X_hog.shape)"
      ],
      "metadata": {
        "colab": {
          "base_uri": "https://localhost:8080/"
        },
        "id": "bR-0iCHBQK48",
        "outputId": "8190ed26-d010-4090-97b6-14e9e5db796a"
      },
      "execution_count": null,
      "outputs": [
        {
          "output_type": "stream",
          "name": "stdout",
          "text": [
            "HOG feature shape: (240, 1764)\n"
          ]
        }
      ]
    },
    {
      "cell_type": "code",
      "source": [
        "from sklearn.model_selection import train_test_split\n",
        "\n",
        "X_train_hog, X_test_hog, y_train, y_test = train_test_split(\n",
        "    X_hog, y, test_size=0.2, random_state=42, stratify=y\n",
        ")"
      ],
      "metadata": {
        "id": "TrYvDjyVRrDR"
      },
      "execution_count": null,
      "outputs": []
    },
    {
      "cell_type": "code",
      "source": [
        "from xgboost import XGBClassifier\n",
        "from sklearn.metrics import classification_report, accuracy_score\n",
        "\n",
        "# Initialize and train the XGBoost model\n",
        "xgb_model = XGBClassifier(use_label_encoder=False, eval_metric='logloss')\n",
        "xgb_model.fit(X_train_hog, y_train)\n",
        "\n",
        "# Predict\n",
        "y_pred_xgb = xgb_model.predict(X_test_hog)\n",
        "\n",
        "# Evaluate\n",
        "print(\"XGBoost Accuracy:\", accuracy_score(y_test, y_pred_xgb))\n",
        "print(classification_report(y_test, y_pred_xgb))"
      ],
      "metadata": {
        "colab": {
          "base_uri": "https://localhost:8080/"
        },
        "id": "U93ANJSFSDMo",
        "outputId": "57ee1593-bfbf-489a-86c7-0db7b5c5f310"
      },
      "execution_count": null,
      "outputs": [
        {
          "output_type": "stream",
          "name": "stderr",
          "text": [
            "/usr/local/lib/python3.11/dist-packages/xgboost/training.py:183: UserWarning: [14:45:08] WARNING: /workspace/src/learner.cc:738: \n",
            "Parameters: { \"use_label_encoder\" } are not used.\n",
            "\n",
            "  bst.update(dtrain, iteration=i, fobj=obj)\n"
          ]
        },
        {
          "output_type": "stream",
          "name": "stdout",
          "text": [
            "XGBoost Accuracy: 0.7291666666666666\n",
            "              precision    recall  f1-score   support\n",
            "\n",
            "           0       0.70      0.79      0.75        24\n",
            "           1       0.76      0.67      0.71        24\n",
            "\n",
            "    accuracy                           0.73        48\n",
            "   macro avg       0.73      0.73      0.73        48\n",
            "weighted avg       0.73      0.73      0.73        48\n",
            "\n"
          ]
        }
      ]
    },
    {
      "cell_type": "code",
      "source": [
        "from sklearn.svm import SVC\n",
        "from sklearn.metrics import classification_report, accuracy_score\n",
        "\n",
        "# Train SVM model\n",
        "svm_model = SVC(kernel='linear')\n",
        "svm_model.fit(X_train_hog, y_train)\n",
        "\n",
        "# Predict\n",
        "y_pred_svm = svm_model.predict(X_test_hog)\n",
        "\n",
        "# Evaluate\n",
        "print(\"SVM Accuracy:\", accuracy_score(y_test, y_pred_svm))\n",
        "print(\"Classification Report:\\n\", classification_report(y_test, y_pred_svm))"
      ],
      "metadata": {
        "colab": {
          "base_uri": "https://localhost:8080/"
        },
        "id": "RMnvf5bSSXOB",
        "outputId": "e3d40806-86a0-4ea2-d1d6-5afe0b0c266b"
      },
      "execution_count": null,
      "outputs": [
        {
          "output_type": "stream",
          "name": "stdout",
          "text": [
            "SVM Accuracy: 0.6666666666666666\n",
            "Classification Report:\n",
            "               precision    recall  f1-score   support\n",
            "\n",
            "           0       0.65      0.71      0.68        24\n",
            "           1       0.68      0.62      0.65        24\n",
            "\n",
            "    accuracy                           0.67        48\n",
            "   macro avg       0.67      0.67      0.67        48\n",
            "weighted avg       0.67      0.67      0.67        48\n",
            "\n"
          ]
        }
      ]
    },
    {
      "cell_type": "code",
      "source": [
        "from sklearn.ensemble import RandomForestClassifier\n",
        "\n",
        "# Train Random Forest model\n",
        "rf_model = RandomForestClassifier(n_estimators=100, random_state=42)\n",
        "rf_model.fit(X_train_hog, y_train)\n",
        "\n",
        "# Predict\n",
        "y_pred_rf = rf_model.predict(X_test_hog)\n",
        "\n",
        "# Evaluate\n",
        "print(\"Random Forest Accuracy:\", accuracy_score(y_test, y_pred_rf))\n",
        "print(\"Classification Report:\\n\", classification_report(y_test, y_pred_rf))"
      ],
      "metadata": {
        "colab": {
          "base_uri": "https://localhost:8080/"
        },
        "id": "zU_sBZ3gSmHQ",
        "outputId": "21a51882-0ad3-41b4-8672-3ba79dd43cb4"
      },
      "execution_count": null,
      "outputs": [
        {
          "output_type": "stream",
          "name": "stdout",
          "text": [
            "Random Forest Accuracy: 0.8333333333333334\n",
            "Classification Report:\n",
            "               precision    recall  f1-score   support\n",
            "\n",
            "           0       0.83      0.83      0.83        24\n",
            "           1       0.83      0.83      0.83        24\n",
            "\n",
            "    accuracy                           0.83        48\n",
            "   macro avg       0.83      0.83      0.83        48\n",
            "weighted avg       0.83      0.83      0.83        48\n",
            "\n"
          ]
        }
      ]
    },
    {
      "cell_type": "code",
      "source": [
        "from sklearn.neighbors import KNeighborsClassifier\n",
        "\n",
        "# Train KNN model\n",
        "knn_model = KNeighborsClassifier(n_neighbors=3)\n",
        "knn_model.fit(X_train_hog, y_train)\n",
        "\n",
        "# Predict\n",
        "y_pred_knn = knn_model.predict(X_test_hog)\n",
        "\n",
        "# Evaluate\n",
        "print(\"KNN Accuracy:\", accuracy_score(y_test, y_pred_knn))\n",
        "print(\"Classification Report:\\n\", classification_report(y_test, y_pred_knn))"
      ],
      "metadata": {
        "colab": {
          "base_uri": "https://localhost:8080/"
        },
        "id": "-UlpzR_iSxJZ",
        "outputId": "8c60c591-5d32-476e-e3e3-09b18e4af2ba"
      },
      "execution_count": null,
      "outputs": [
        {
          "output_type": "stream",
          "name": "stdout",
          "text": [
            "KNN Accuracy: 0.7291666666666666\n",
            "Classification Report:\n",
            "               precision    recall  f1-score   support\n",
            "\n",
            "           0       0.87      0.54      0.67        24\n",
            "           1       0.67      0.92      0.77        24\n",
            "\n",
            "    accuracy                           0.73        48\n",
            "   macro avg       0.77      0.73      0.72        48\n",
            "weighted avg       0.77      0.73      0.72        48\n",
            "\n"
          ]
        }
      ]
    },
    {
      "cell_type": "code",
      "source": [
        "from sklearn.naive_bayes import GaussianNB\n",
        "\n",
        "# Train Naive Bayes model\n",
        "nb_model = GaussianNB()\n",
        "nb_model.fit(X_train_hog, y_train)\n",
        "\n",
        "# Predict\n",
        "y_pred_nb = nb_model.predict(X_test_hog)\n",
        "\n",
        "# Evaluate\n",
        "print(\"Naive Bayes Accuracy:\", accuracy_score(y_test, y_pred_nb))\n",
        "print(\"Classification Report:\\n\", classification_report(y_test, y_pred_nb))"
      ],
      "metadata": {
        "colab": {
          "base_uri": "https://localhost:8080/"
        },
        "id": "buCQxk0uS35i",
        "outputId": "ac437cc3-58f2-4573-9d7b-3b64746a0580"
      },
      "execution_count": null,
      "outputs": [
        {
          "output_type": "stream",
          "name": "stdout",
          "text": [
            "Naive Bayes Accuracy: 0.875\n",
            "Classification Report:\n",
            "               precision    recall  f1-score   support\n",
            "\n",
            "           0       0.91      0.83      0.87        24\n",
            "           1       0.85      0.92      0.88        24\n",
            "\n",
            "    accuracy                           0.88        48\n",
            "   macro avg       0.88      0.88      0.87        48\n",
            "weighted avg       0.88      0.88      0.87        48\n",
            "\n"
          ]
        }
      ]
    },
    {
      "cell_type": "code",
      "source": [
        "accuracies = {\n",
        "    \"SVM\": accuracy_score(y_test, y_pred_svm),\n",
        "    \"KNN\": accuracy_score(y_test, y_pred_knn),\n",
        "    \"Random Forest\": accuracy_score(y_test, y_pred_rf),\n",
        "    \"Naive Bayes\": accuracy_score(y_test, y_pred_nb),\n",
        "    \"XGBoost\": accuracy_score(y_test, y_pred_xgb)\n",
        "}"
      ],
      "metadata": {
        "id": "rzZDkxYjTIII"
      },
      "execution_count": null,
      "outputs": []
    },
    {
      "cell_type": "code",
      "source": [
        "import matplotlib.pyplot as plt\n",
        "\n",
        "plt.figure(figsize=(10,6))\n",
        "plt.bar(accuracies.keys(), accuracies.values(), color='skyblue')\n",
        "plt.ylim(0, 1)\n",
        "plt.title('Classifier Accuracy Comparison on HOG Features')\n",
        "plt.ylabel('Accuracy')\n",
        "plt.xlabel('Classifiers')\n",
        "plt.grid(axis='y', linestyle='--', alpha=0.7)\n",
        "\n",
        "for i, (clf, acc) in enumerate(accuracies.items()):\n",
        "    plt.text(i, acc + 0.02, f\"{acc:.2f}\", ha='center', fontsize=12)\n",
        "\n",
        "plt.tight_layout()\n",
        "plt.show()"
      ],
      "metadata": {
        "colab": {
          "base_uri": "https://localhost:8080/",
          "height": 607
        },
        "id": "IJD_SDeDTgki",
        "outputId": "c3218a82-0aad-4a66-8ca6-613b26ae9827"
      },
      "execution_count": null,
      "outputs": [
        {
          "output_type": "display_data",
          "data": {
            "text/plain": [
              "<Figure size 1000x600 with 1 Axes>"
            ],
            "image/png": "[encoded data removed]"
          },
          "metadata": {}
        }
      ]
    },
    {
      "cell_type": "code",
      "source": [
        "for model, acc in accuracies.items():\n",
        "    print(f\"{model} Accuracy: {acc:.4f}\")"
      ],
      "metadata": {
        "colab": {
          "base_uri": "https://localhost:8080/"
        },
        "id": "MzT7HHSJTmR3",
        "outputId": "272f0059-33e9-4945-e3d4-76181525d845"
      },
      "execution_count": null,
      "outputs": [
        {
          "output_type": "stream",
          "name": "stdout",
          "text": [
            "SVM Accuracy: 0.7083\n",
            "KNN Accuracy: 0.6667\n",
            "Random Forest Accuracy: 0.8125\n",
            "Naive Bayes Accuracy: 0.7917\n",
            "XGBoost Accuracy: 0.7500\n"
          ]
        }
      ]
    },
    {
      "cell_type": "markdown",
      "source": [
        "LBP"
      ],
      "metadata": {
        "id": "AhfTFXntZG-F"
      }
    },
    {
      "cell_type": "code",
      "source": [
        "from skimage.feature import local_binary_pattern\n",
        "import cv2\n",
        "\n",
        "def extract_lbp_features(images, P=8, R=1):\n",
        "    lbp_features = []\n",
        "    for img in images:\n",
        "        gray_img = cv2.cvtColor(img, cv2.COLOR_BGR2GRAY)\n",
        "        lbp = local_binary_pattern(gray_img, P, R, method=\"uniform\")\n",
        "        (hist, _) = np.histogram(lbp.ravel(),\n",
        "                                 bins=np.arange(0, P + 3),\n",
        "                                 range=(0, P + 2))\n",
        "        hist = hist.astype(\"float\")\n",
        "        hist /= (hist.sum() + 1e-6)\n",
        "        lbp_features.append(hist)\n",
        "    return np.array(lbp_features)\n",
        "\n",
        "X_lbp = extract_lbp_features(X)\n",
        "print(\"LBP feature shape:\", X_lbp.shape)"
      ],
      "metadata": {
        "colab": {
          "base_uri": "https://localhost:8080/"
        },
        "id": "tYkL2j6pQRSS",
        "outputId": "f04c4344-ed5e-4bed-9949-96f81dc3321a"
      },
      "execution_count": null,
      "outputs": [
        {
          "output_type": "stream",
          "name": "stdout",
          "text": [
            "LBP feature shape: (240, 10)\n"
          ]
        }
      ]
    },
    {
      "cell_type": "code",
      "source": [
        "from sklearn.model_selection import train_test_split\n",
        "X_lbp_train, X_lbp_test, y_lbp_train, y_lbp_test = train_test_split(X_lbp, y, test_size=0.2, random_state=42)"
      ],
      "metadata": {
        "id": "JXClfgoiUGeJ"
      },
      "execution_count": null,
      "outputs": []
    },
    {
      "cell_type": "code",
      "source": [
        "from sklearn.svm import SVC\n",
        "from sklearn.metrics import accuracy_score, precision_score, recall_score, f1_score\n",
        "\n",
        "svm_lbp = SVC(kernel='linear')\n",
        "svm_lbp.fit(X_lbp_train, y_lbp_train)\n",
        "y_pred_svm = svm_lbp.predict(X_lbp_test)\n",
        "\n",
        "acc_svm = accuracy_score(y_lbp_test, y_pred_svm)\n",
        "prec_svm = precision_score(y_lbp_test, y_pred_svm)\n",
        "rec_svm = recall_score(y_lbp_test, y_pred_svm)\n",
        "f1_svm = f1_score(y_lbp_test, y_pred_svm)\n",
        "\n",
        "print(\"SVM (LBP) - Accuracy:\", acc_svm)\n",
        "print(\"Precision:\", prec_svm)\n",
        "print(\"Recall:\", rec_svm)\n",
        "print(\"F1 Score:\", f1_svm)"
      ],
      "metadata": {
        "colab": {
          "base_uri": "https://localhost:8080/"
        },
        "id": "C23FP_S3URLz",
        "outputId": "2b3920c2-de10-4aa2-affc-639918325792"
      },
      "execution_count": null,
      "outputs": [
        {
          "output_type": "stream",
          "name": "stdout",
          "text": [
            "SVM (LBP) - Accuracy: 0.7291666666666666\n",
            "Precision: 0.8666666666666667\n",
            "Recall: 0.5416666666666666\n",
            "F1 Score: 0.6666666666666666\n"
          ]
        }
      ]
    },
    {
      "cell_type": "code",
      "source": [
        "from sklearn.neighbors import KNeighborsClassifier\n",
        "\n",
        "knn_lbp = KNeighborsClassifier(n_neighbors=3)\n",
        "knn_lbp.fit(X_lbp_train, y_lbp_train)\n",
        "y_pred_knn = knn_lbp.predict(X_lbp_test)\n",
        "\n",
        "acc_knn = accuracy_score(y_lbp_test, y_pred_knn)\n",
        "prec_knn = precision_score(y_lbp_test, y_pred_knn)\n",
        "rec_knn = recall_score(y_lbp_test, y_pred_knn)\n",
        "f1_knn = f1_score(y_lbp_test, y_pred_knn)\n",
        "\n",
        "print(\"KNN (LBP) - Accuracy:\", acc_knn)\n",
        "print(\"Precision:\", prec_knn)\n",
        "print(\"Recall:\", rec_knn)\n",
        "print(\"F1 Score:\", f1_knn)"
      ],
      "metadata": {
        "colab": {
          "base_uri": "https://localhost:8080/"
        },
        "id": "902Fyjr7U1pA",
        "outputId": "8cc8c372-4622-450a-b197-23979feb5fbb"
      },
      "execution_count": null,
      "outputs": [
        {
          "output_type": "stream",
          "name": "stdout",
          "text": [
            "KNN (LBP) - Accuracy: 0.6041666666666666\n",
            "Precision: 0.6086956521739131\n",
            "Recall: 0.5833333333333334\n",
            "F1 Score: 0.5957446808510638\n"
          ]
        }
      ]
    },
    {
      "cell_type": "code",
      "source": [
        "from sklearn.ensemble import RandomForestClassifier\n",
        "\n",
        "rf_lbp = RandomForestClassifier(n_estimators=100, random_state=42)\n",
        "rf_lbp.fit(X_lbp_train, y_lbp_train)\n",
        "y_pred_rf = rf_lbp.predict(X_lbp_test)\n",
        "\n",
        "acc_rf = accuracy_score(y_lbp_test, y_pred_rf)\n",
        "prec_rf = precision_score(y_lbp_test, y_pred_rf)\n",
        "rec_rf = recall_score(y_lbp_test, y_pred_rf)\n",
        "f1_rf = f1_score(y_lbp_test, y_pred_rf)\n",
        "\n",
        "print(\"Random Forest (LBP) - Accuracy:\", acc_rf)\n",
        "print(\"Precision:\", prec_rf)\n",
        "print(\"Recall:\", rec_rf)\n",
        "print(\"F1 Score:\", f1_rf)"
      ],
      "metadata": {
        "colab": {
          "base_uri": "https://localhost:8080/"
        },
        "id": "ere_WYsdU3OW",
        "outputId": "8a231087-0dc9-4419-ce48-57096a159d34"
      },
      "execution_count": null,
      "outputs": [
        {
          "output_type": "stream",
          "name": "stdout",
          "text": [
            "Random Forest (LBP) - Accuracy: 0.7291666666666666\n",
            "Precision: 0.8235294117647058\n",
            "Recall: 0.5833333333333334\n",
            "F1 Score: 0.6829268292682927\n"
          ]
        }
      ]
    },
    {
      "cell_type": "code",
      "source": [
        "from sklearn.naive_bayes import GaussianNB\n",
        "\n",
        "nb_lbp = GaussianNB()\n",
        "nb_lbp.fit(X_lbp_train, y_lbp_train)\n",
        "y_pred_nb = nb_lbp.predict(X_lbp_test)\n",
        "\n",
        "acc_nb = accuracy_score(y_lbp_test, y_pred_nb)\n",
        "prec_nb = precision_score(y_lbp_test, y_pred_nb)\n",
        "rec_nb = recall_score(y_lbp_test, y_pred_nb)\n",
        "f1_nb = f1_score(y_lbp_test, y_pred_nb)\n",
        "\n",
        "print(\"Naive Bayes (LBP) - Accuracy:\", acc_nb)\n",
        "print(\"Precision:\", prec_nb)\n",
        "print(\"Recall:\", rec_nb)\n",
        "print(\"F1 Score:\", f1_nb)"
      ],
      "metadata": {
        "colab": {
          "base_uri": "https://localhost:8080/"
        },
        "id": "18KUugJVU5UF",
        "outputId": "7288e100-23df-43e7-be9f-f08c8d13804a"
      },
      "execution_count": null,
      "outputs": [
        {
          "output_type": "stream",
          "name": "stdout",
          "text": [
            "Naive Bayes (LBP) - Accuracy: 0.7083333333333334\n",
            "Precision: 0.8571428571428571\n",
            "Recall: 0.5\n",
            "F1 Score: 0.631578947368421\n"
          ]
        }
      ]
    },
    {
      "cell_type": "code",
      "source": [
        "from xgboost import XGBClassifier\n",
        "\n",
        "xgb_lbp = XGBClassifier(use_label_encoder=False, eval_metric='logloss')\n",
        "xgb_lbp.fit(X_lbp_train, y_lbp_train)\n",
        "y_pred_xgb = xgb_lbp.predict(X_lbp_test)\n",
        "\n",
        "acc_xgb = accuracy_score(y_lbp_test, y_pred_xgb)\n",
        "prec_xgb = precision_score(y_lbp_test, y_pred_xgb)\n",
        "rec_xgb = recall_score(y_lbp_test, y_pred_xgb)\n",
        "f1_xgb = f1_score(y_lbp_test, y_pred_xgb)\n",
        "\n",
        "print(\"XGBoost (LBP) - Accuracy:\", acc_xgb)\n",
        "print(\"Precision:\", prec_xgb)\n",
        "print(\"Recall:\", rec_xgb)\n",
        "print(\"F1 Score:\", f1_xgb)"
      ],
      "metadata": {
        "colab": {
          "base_uri": "https://localhost:8080/"
        },
        "id": "Y0yAch6aU8ig",
        "outputId": "0430e310-1612-4fcb-d9c1-8d89cd63a482"
      },
      "execution_count": null,
      "outputs": [
        {
          "output_type": "stream",
          "name": "stdout",
          "text": [
            "XGBoost (LBP) - Accuracy: 0.7291666666666666\n",
            "Precision: 0.7894736842105263\n",
            "Recall: 0.625\n",
            "F1 Score: 0.6976744186046512\n"
          ]
        },
        {
          "output_type": "stream",
          "name": "stderr",
          "text": [
            "/usr/local/lib/python3.11/dist-packages/xgboost/training.py:183: UserWarning: [15:07:20] WARNING: /workspace/src/learner.cc:738: \n",
            "Parameters: { \"use_label_encoder\" } are not used.\n",
            "\n",
            "  bst.update(dtrain, iteration=i, fobj=obj)\n"
          ]
        }
      ]
    },
    {
      "cell_type": "code",
      "source": [
        "import matplotlib.pyplot as plt\n",
        "\n",
        "accuracy_scores_lbp = {\n",
        "    'SVM': acc_svm,\n",
        "    'KNN': acc_knn,\n",
        "    'Random Forest': acc_rf,\n",
        "    'Naive Bayes': acc_nb,\n",
        "    'XGBoost': acc_xgb\n",
        "}\n",
        "plt.figure(figsize=(10, 6))\n",
        "plt.bar(accuracy_scores_lbp.keys(), accuracy_scores_lbp.values(), color='skyblue')\n",
        "plt.title('Classifier Accuracies on LBP Features')\n",
        "plt.xlabel('Classifier')\n",
        "plt.ylabel('Accuracy')\n",
        "plt.ylim(0, 1)\n",
        "for i, v in enumerate(accuracy_scores_lbp.values()):\n",
        "    plt.text(i, v + 0.01, f\"{v:.2f}\", ha='center', fontweight='bold')\n",
        "plt.grid(axis='y', linestyle='--', alpha=0.7)\n",
        "plt.tight_layout()\n",
        "plt.show()"
      ],
      "metadata": {
        "colab": {
          "base_uri": "https://localhost:8080/",
          "height": 607
        },
        "id": "nuJmHhcJU_-o",
        "outputId": "c7c5f27d-2c45-4c03-95ca-fe12fef385e7"
      },
      "execution_count": null,
      "outputs": [
        {
          "output_type": "display_data",
          "data": {
            "text/plain": [
              "<Figure size 1000x600 with 1 Axes>"
            ],
            "image/png": "[encoded data removed]"
          },
          "metadata": {}
        }
      ]
    },
    {
      "cell_type": "markdown",
      "source": [
        "HOG + LBP"
      ],
      "metadata": {
        "id": "nkxIOvbXZN_3"
      }
    },
    {
      "cell_type": "code",
      "source": [
        "# HOG accuracy scores\n",
        "accuracy_scores_hog = {\n",
        "    'SVM': accuracies['SVM'],\n",
        "    'KNN': accuracies['KNN'],\n",
        "    'Random Forest': accuracies['Random Forest'],\n",
        "    'Naive Bayes': accuracies['Naive Bayes'],\n",
        "    'XGBoost': accuracies['XGBoost']\n",
        "}\n",
        "\n",
        "# LBP accuracy scores\n",
        "accuracy_scores_lbp = {\n",
        "    'SVM': acc_svm,\n",
        "    'KNN': acc_knn,\n",
        "    'Random Forest': acc_rf,\n",
        "    'Naive Bayes': acc_nb,\n",
        "    'XGBoost': acc_xgb\n",
        "}"
      ],
      "metadata": {
        "id": "_Ws_hPPoVhq5"
      },
      "execution_count": null,
      "outputs": []
    },
    {
      "cell_type": "code",
      "source": [
        "import numpy as np\n",
        "import matplotlib.pyplot as plt\n",
        "\n",
        "# Classifiers\n",
        "classifiers = list(accuracy_scores_hog.keys())\n",
        "\n",
        "# Accuracies\n",
        "hog_values = [accuracy_scores_hog[clf] for clf in classifiers]\n",
        "lbp_values = [accuracy_scores_lbp[clf] for clf in classifiers]\n",
        "\n",
        "x = np.arange(len(classifiers))\n",
        "width = 0.35\n",
        "\n",
        "plt.figure(figsize=(10, 6))\n",
        "plt.bar(x - width/2, hog_values, width, label='HOG', color='cornflowerblue')\n",
        "plt.bar(x + width/2, lbp_values, width, label='LBP', color='orange')\n",
        "\n",
        "for i in range(len(classifiers)):\n",
        "    plt.text(x[i] - width/2, hog_values[i] + 0.01, f\"{hog_values[i]:.2f}\", ha='center')\n",
        "    plt.text(x[i] + width/2, lbp_values[i] + 0.01, f\"{lbp_values[i]:.2f}\", ha='center')\n",
        "\n",
        "plt.xlabel('Classifier')\n",
        "plt.ylabel('Accuracy')\n",
        "plt.title('HOG vs LBP - Classifier Accuracy Comparison')\n",
        "plt.xticks(x, classifiers)\n",
        "plt.ylim(0, 1)\n",
        "plt.legend()\n",
        "plt.grid(axis='y', linestyle='--', alpha=0.7)\n",
        "plt.tight_layout()\n",
        "plt.show()"
      ],
      "metadata": {
        "colab": {
          "base_uri": "https://localhost:8080/",
          "height": 607
        },
        "id": "-50tghdtWLjF",
        "outputId": "3527f384-2fb2-4697-d694-2d10f25e6b3c"
      },
      "execution_count": null,
      "outputs": [
        {
          "output_type": "display_data",
          "data": {
            "text/plain": [
              "<Figure size 1000x600 with 1 Axes>"
            ],
            "image/png": "[encoded data removed]"
          },
          "metadata": {}
        }
      ]
    },
    {
      "cell_type": "code",
      "source": [
        "# Combine HOG and LBP features\n",
        "X_combined = np.hstack((X_hog, X_lbp))\n",
        "print(\"Combined feature shape:\", X_combined.shape)"
      ],
      "metadata": {
        "colab": {
          "base_uri": "https://localhost:8080/"
        },
        "id": "WCKOWLmSWS5Y",
        "outputId": "af6d3ee5-4802-481a-ece5-348c13b981c2"
      },
      "execution_count": null,
      "outputs": [
        {
          "output_type": "stream",
          "name": "stdout",
          "text": [
            "Combined feature shape: (240, 1774)\n"
          ]
        }
      ]
    },
    {
      "cell_type": "code",
      "source": [
        "X_train_c, X_test_c, y_train_c, y_test_c = train_test_split(X_combined, y, test_size=0.2, random_state=42, stratify=y)"
      ],
      "metadata": {
        "id": "SVBdX7NWWq1M"
      },
      "execution_count": null,
      "outputs": []
    },
    {
      "cell_type": "code",
      "source": [
        "from sklearn.svm import SVC\n",
        "from sklearn.metrics import accuracy_score, precision_score, recall_score, f1_score, classification_report\n",
        "\n",
        "# Train the model\n",
        "svm_combined = SVC(kernel='linear', random_state=42)\n",
        "svm_combined.fit(X_train_c, y_train_c)\n",
        "\n",
        "# Predict\n",
        "y_pred_svm_c = svm_combined.predict(X_test_c)\n",
        "\n",
        "# Metrics\n",
        "accuracy_svm_c = accuracy_score(y_test_c, y_pred_svm_c)\n",
        "precision_svm_c = precision_score(y_test_c, y_pred_svm_c, average='macro')\n",
        "recall_svm_c = recall_score(y_test_c, y_pred_svm_c, average='macro')\n",
        "f1_svm_c = f1_score(y_test_c, y_pred_svm_c, average='macro')\n",
        "report_svm_c = classification_report(y_test_c, y_pred_svm_c)\n",
        "\n",
        "# Print\n",
        "print(\"=== SVM (Combined HOG + LBP) ===\")\n",
        "print(f\"Accuracy:  {accuracy_svm_c:.4f}\")\n",
        "print(f\"Precision: {precision_svm_c:.4f}\")\n",
        "print(f\"Recall:    {recall_svm_c:.4f}\")\n",
        "print(f\"F1-score:  {f1_svm_c:.4f}\")\n",
        "print(\"\\nClassification Report:\\n\", report_svm_c)"
      ],
      "metadata": {
        "colab": {
          "base_uri": "https://localhost:8080/"
        },
        "id": "-CUMiIsRW1oQ",
        "outputId": "2e35f5fe-2b35-483a-cce9-a361a423ef5b"
      },
      "execution_count": null,
      "outputs": [
        {
          "output_type": "stream",
          "name": "stdout",
          "text": [
            "=== SVM (Combined HOG + LBP) ===\n",
            "Accuracy:  0.6667\n",
            "Precision: 0.6678\n",
            "Recall:    0.6667\n",
            "F1-score:  0.6661\n",
            "\n",
            "Classification Report:\n",
            "               precision    recall  f1-score   support\n",
            "\n",
            "           0       0.65      0.71      0.68        24\n",
            "           1       0.68      0.62      0.65        24\n",
            "\n",
            "    accuracy                           0.67        48\n",
            "   macro avg       0.67      0.67      0.67        48\n",
            "weighted avg       0.67      0.67      0.67        48\n",
            "\n"
          ]
        }
      ]
    },
    {
      "cell_type": "code",
      "source": [
        "from sklearn.neighbors import KNeighborsClassifier\n",
        "from sklearn.metrics import accuracy_score, precision_score, recall_score, f1_score, classification_report\n",
        "\n",
        "# Train the model\n",
        "knn_combined = KNeighborsClassifier(n_neighbors=3)\n",
        "knn_combined.fit(X_train_c, y_train_c)\n",
        "\n",
        "# Predict\n",
        "y_pred_knn_c = knn_combined.predict(X_test_c)\n",
        "\n",
        "accuracy_knn_c = accuracy_score(y_test_c, y_pred_knn_c)\n",
        "precision_knn_c = precision_score(y_test_c, y_pred_knn_c, average='macro')\n",
        "recall_knn_c = recall_score(y_test_c, y_pred_knn_c, average='macro')\n",
        "f1_knn_c = f1_score(y_test_c, y_pred_knn_c, average='macro')\n",
        "report_knn_c = classification_report(y_test_c, y_pred_knn_c)\n",
        "\n",
        "print(\"=== KNN (Combined HOG + LBP) ===\")\n",
        "print(f\"Accuracy:  {accuracy_knn_c:.4f}\")\n",
        "print(f\"Precision: {precision_knn_c:.4f}\")\n",
        "print(f\"Recall:    {recall_knn_c:.4f}\")\n",
        "print(f\"F1-score:  {f1_knn_c:.4f}\")\n",
        "print(\"\\nClassification Report:\\n\", report_knn_c)\n"
      ],
      "metadata": {
        "colab": {
          "base_uri": "https://localhost:8080/"
        },
        "id": "iEa4lDnUXA62",
        "outputId": "f600a1f5-9e15-4eec-ffd9-e1e8ccd98550"
      },
      "execution_count": null,
      "outputs": [
        {
          "output_type": "stream",
          "name": "stdout",
          "text": [
            "=== KNN (Combined HOG + LBP) ===\n",
            "Accuracy:  0.7292\n",
            "Precision: 0.7667\n",
            "Recall:    0.7292\n",
            "F1-score:  0.7193\n",
            "\n",
            "Classification Report:\n",
            "               precision    recall  f1-score   support\n",
            "\n",
            "           0       0.87      0.54      0.67        24\n",
            "           1       0.67      0.92      0.77        24\n",
            "\n",
            "    accuracy                           0.73        48\n",
            "   macro avg       0.77      0.73      0.72        48\n",
            "weighted avg       0.77      0.73      0.72        48\n",
            "\n"
          ]
        }
      ]
    },
    {
      "cell_type": "code",
      "source": [
        "from sklearn.ensemble import RandomForestClassifier\n",
        "from sklearn.metrics import accuracy_score, precision_score, recall_score, f1_score, classification_report\n",
        "\n",
        "# Train the model\n",
        "rf_combined = RandomForestClassifier(n_estimators=100, random_state=42)\n",
        "rf_combined.fit(X_train_c, y_train_c)\n",
        "\n",
        "# Predict\n",
        "y_pred_rf_c = rf_combined.predict(X_test_c)\n",
        "\n",
        "accuracy_rf_c = accuracy_score(y_test_c, y_pred_rf_c)\n",
        "precision_rf_c = precision_score(y_test_c, y_pred_rf_c, average='macro')\n",
        "recall_rf_c = recall_score(y_test_c, y_pred_rf_c, average='macro')\n",
        "f1_rf_c = f1_score(y_test_c, y_pred_rf_c, average='macro')\n",
        "report_rf_c = classification_report(y_test_c, y_pred_rf_c)\n",
        "\n",
        "print(\"=== Random Forest (Combined HOG + LBP) ===\")\n",
        "print(f\"Accuracy:  {accuracy_rf_c:.4f}\")\n",
        "print(f\"Precision: {precision_rf_c:.4f}\")\n",
        "print(f\"Recall:    {recall_rf_c:.4f}\")\n",
        "print(f\"F1-score:  {f1_rf_c:.4f}\")\n",
        "print(\"\\nClassification Report:\\n\", report_rf_c)"
      ],
      "metadata": {
        "colab": {
          "base_uri": "https://localhost:8080/"
        },
        "id": "njK8zqOUXDtG",
        "outputId": "1b9b3358-3212-4e30-e8ef-5ead962d8d31"
      },
      "execution_count": null,
      "outputs": [
        {
          "output_type": "stream",
          "name": "stdout",
          "text": [
            "=== Random Forest (Combined HOG + LBP) ===\n",
            "Accuracy:  0.7917\n",
            "Precision: 0.8000\n",
            "Recall:    0.7917\n",
            "F1-score:  0.7902\n",
            "\n",
            "Classification Report:\n",
            "               precision    recall  f1-score   support\n",
            "\n",
            "           0       0.85      0.71      0.77        24\n",
            "           1       0.75      0.88      0.81        24\n",
            "\n",
            "    accuracy                           0.79        48\n",
            "   macro avg       0.80      0.79      0.79        48\n",
            "weighted avg       0.80      0.79      0.79        48\n",
            "\n"
          ]
        }
      ]
    },
    {
      "cell_type": "code",
      "source": [
        "from sklearn.naive_bayes import GaussianNB\n",
        "from sklearn.metrics import accuracy_score, precision_score, recall_score, f1_score, classification_report\n",
        "\n",
        "# Train the model\n",
        "nb_combined = GaussianNB()\n",
        "nb_combined.fit(X_train_c, y_train_c)\n",
        "\n",
        "# Predict\n",
        "y_pred_nb_c = nb_combined.predict(X_test_c)\n",
        "\n",
        "accuracy_nb_c = accuracy_score(y_test_c, y_pred_nb_c)\n",
        "precision_nb_c = precision_score(y_test_c, y_pred_nb_c, average='macro')\n",
        "recall_nb_c = recall_score(y_test_c, y_pred_nb_c, average='macro')\n",
        "f1_nb_c = f1_score(y_test_c, y_pred_nb_c, average='macro')\n",
        "report_nb_c = classification_report(y_test_c, y_pred_nb_c)\n",
        "\n",
        "print(\"=== Naive Bayes (Combined HOG + LBP) ===\")\n",
        "print(f\"Accuracy:  {accuracy_nb_c:.4f}\")\n",
        "print(f\"Precision: {precision_nb_c:.4f}\")\n",
        "print(f\"Recall:    {recall_nb_c:.4f}\")\n",
        "print(f\"F1-score:  {f1_nb_c:.4f}\")\n",
        "print(\"\\nClassification Report:\\n\", report_nb_c)"
      ],
      "metadata": {
        "colab": {
          "base_uri": "https://localhost:8080/"
        },
        "id": "dw7Lir5pXUKj",
        "outputId": "5c11cf19-ca62-4ab6-aad0-cd2f9022f9d9"
      },
      "execution_count": null,
      "outputs": [
        {
          "output_type": "stream",
          "name": "stdout",
          "text": [
            "=== Naive Bayes (Combined HOG + LBP) ===\n",
            "Accuracy:  0.8542\n",
            "Precision: 0.8598\n",
            "Recall:    0.8542\n",
            "F1-score:  0.8536\n",
            "\n",
            "Classification Report:\n",
            "               precision    recall  f1-score   support\n",
            "\n",
            "           0       0.90      0.79      0.84        24\n",
            "           1       0.81      0.92      0.86        24\n",
            "\n",
            "    accuracy                           0.85        48\n",
            "   macro avg       0.86      0.85      0.85        48\n",
            "weighted avg       0.86      0.85      0.85        48\n",
            "\n"
          ]
        }
      ]
    },
    {
      "cell_type": "code",
      "source": [
        "from xgboost import XGBClassifier\n",
        "from sklearn.metrics import accuracy_score, precision_score, recall_score, f1_score, classification_report\n",
        "\n",
        "# Train the model\n",
        "xgb_combined = XGBClassifier(use_label_encoder=False, eval_metric='mlogloss')\n",
        "xgb_combined.fit(X_train_c, y_train_c)\n",
        "\n",
        "# Predict\n",
        "y_pred_xgb_c = xgb_combined.predict(X_test_c)\n",
        "\n",
        "accuracy_xgb_c = accuracy_score(y_test_c, y_pred_xgb_c)\n",
        "precision_xgb_c = precision_score(y_test_c, y_pred_xgb_c, average='macro')\n",
        "recall_xgb_c = recall_score(y_test_c, y_pred_xgb_c, average='macro')\n",
        "f1_xgb_c = f1_score(y_test_c, y_pred_xgb_c, average='macro')\n",
        "report_xgb_c = classification_report(y_test_c, y_pred_xgb_c)\n",
        "\n",
        "print(\"=== XGBoost (Combined HOG + LBP) ===\")\n",
        "print(f\"Accuracy:  {accuracy_xgb_c:.4f}\")\n",
        "print(f\"Precision: {precision_xgb_c:.4f}\")\n",
        "print(f\"Recall:    {recall_xgb_c:.4f}\")\n",
        "print(f\"F1-score:  {f1_xgb_c:.4f}\")\n",
        "print(\"\\nClassification Report:\\n\", report_xgb_c)"
      ],
      "metadata": {
        "colab": {
          "base_uri": "https://localhost:8080/"
        },
        "id": "gPdopJesXbe7",
        "outputId": "25215904-227b-4c32-967d-65f7c7f2ec90"
      },
      "execution_count": null,
      "outputs": [
        {
          "output_type": "stream",
          "name": "stderr",
          "text": [
            "/usr/local/lib/python3.11/dist-packages/xgboost/training.py:183: UserWarning: [15:29:46] WARNING: /workspace/src/learner.cc:738: \n",
            "Parameters: { \"use_label_encoder\" } are not used.\n",
            "\n",
            "  bst.update(dtrain, iteration=i, fobj=obj)\n"
          ]
        },
        {
          "output_type": "stream",
          "name": "stdout",
          "text": [
            "=== XGBoost (Combined HOG + LBP) ===\n",
            "Accuracy:  0.7917\n",
            "Precision: 0.7917\n",
            "Recall:    0.7917\n",
            "F1-score:  0.7917\n",
            "\n",
            "Classification Report:\n",
            "               precision    recall  f1-score   support\n",
            "\n",
            "           0       0.79      0.79      0.79        24\n",
            "           1       0.79      0.79      0.79        24\n",
            "\n",
            "    accuracy                           0.79        48\n",
            "   macro avg       0.79      0.79      0.79        48\n",
            "weighted avg       0.79      0.79      0.79        48\n",
            "\n"
          ]
        }
      ]
    },
    {
      "cell_type": "code",
      "source": [
        "import matplotlib.pyplot as plt\n",
        "import numpy as np\n",
        "\n",
        "hog_lbp_results = {\n",
        "    'SVM': {'accuracy': accuracy_svm_c, 'precision': precision_svm_c, 'recall': recall_svm_c, 'f1': f1_svm_c},\n",
        "    'KNN': {'accuracy': accuracy_knn_c, 'precision': precision_knn_c, 'recall': recall_knn_c, 'f1': f1_knn_c},\n",
        "    'Random Forest': {'accuracy': accuracy_rf_c, 'precision': precision_rf_c, 'recall': recall_rf_c, 'f1': f1_rf_c},\n",
        "    'Naive Bayes': {'accuracy': accuracy_nb_c, 'precision': precision_nb_c, 'recall': recall_nb_c, 'f1': f1_nb_c},\n",
        "    'XGBoost': {'accuracy': accuracy_xgb_c, 'precision': precision_xgb_c, 'recall': recall_xgb_c, 'f1': f1_xgb_c}\n",
        "}\n",
        "\n",
        "metrics = ['accuracy']\n",
        "classifiers = list(hog_lbp_results.keys())\n",
        "\n",
        "values = {metric: [hog_lbp_results[clf][metric] for clf in classifiers] for metric in metrics}\n",
        "\n",
        "x = np.arange(len(classifiers))\n",
        "width = 0.35\n",
        "\n",
        "plt.figure(figsize=(10, 6))\n",
        "for i, metric in enumerate(metrics):\n",
        "    bars = plt.bar(x + i*width, values[metric], width=width, label=metric.capitalize())\n",
        "    for bar in bars:\n",
        "        yval = bar.get_height()\n",
        "        plt.text(bar.get_x() + bar.get_width()/2, yval + 0.01, f\"{yval:.2f}\", ha='center', va='bottom')\n",
        "plt.xlabel(\"Classifier\")\n",
        "plt.ylabel(\"Accuracy\")\n",
        "plt.title(\"Classifier Accuracy on HOG + LBP Features\")\n",
        "plt.xticks(x, classifiers)\n",
        "plt.ylim(0, 1)\n",
        "plt.legend()\n",
        "plt.tight_layout()\n",
        "plt.show()"
      ],
      "metadata": {
        "colab": {
          "base_uri": "https://localhost:8080/",
          "height": 607
        },
        "id": "2oWS_jsmXjG1",
        "outputId": "1db86524-4308-4129-cb11-47d0fad4f4b7"
      },
      "execution_count": null,
      "outputs": [
        {
          "output_type": "display_data",
          "data": {
            "text/plain": [
              "<Figure size 1000x600 with 1 Axes>"
            ],
            "image/png": "[encoded data removed]"
          },
          "metadata": {}
        }
      ]
    },
    {
      "cell_type": "code",
      "source": [
        "accuracy_scores = {\n",
        "    'SVM': {'HOG': accuracies['SVM'], 'LBP': acc_svm, 'HOG+LBP': accuracy_svm_c},\n",
        "    'KNN': {'HOG': accuracies['KNN'], 'LBP': acc_knn, 'HOG+LBP': accuracy_knn_c},\n",
        "    'RF': {'HOG': accuracies['Random Forest'], 'LBP': acc_rf, 'HOG+LBP': accuracy_rf_c},\n",
        "    'NB': {'HOG': accuracies['Naive Bayes'], 'LBP': acc_nb, 'HOG+LBP': accuracy_nb_c},\n",
        "    'XGB': {'HOG': accuracies['XGBoost'], 'LBP': acc_xgb, 'HOG+LBP': accuracy_xgb_c},\n",
        "}\n",
        "\n",
        "classifiers = list(accuracy_scores.keys())\n",
        "feature_types = ['HOG', 'LBP', 'HOG+LBP']\n",
        "\n",
        "x = np.arange(len(classifiers))\n",
        "width = 0.25\n",
        "\n",
        "plt.figure(figsize=(10,6))\n",
        "for i, ft in enumerate(feature_types):\n",
        "    plt.bar(x + i*width, [accuracy_scores[clf][ft] for clf in classifiers], width=width, label=ft)\n",
        "\n",
        "plt.xlabel(\"Classifier\")\n",
        "plt.ylabel(\"Accuracy\")\n",
        "plt.title(\"Accuracy Comparison Across Feature Types\")\n",
        "plt.xticks(x + width, classifiers)\n",
        "plt.legend()\n",
        "plt.tight_layout()\n",
        "plt.show()"
      ],
      "metadata": {
        "colab": {
          "base_uri": "https://localhost:8080/",
          "height": 607
        },
        "id": "TSEoqI28YM91",
        "outputId": "d56e028f-1a1e-4cdc-ec48-e9a7612b1f1b"
      },
      "execution_count": null,
      "outputs": [
        {
          "output_type": "display_data",
          "data": {
            "text/plain": [
              "<Figure size 1000x600 with 1 Axes>"
            ],
            "image/png": "[encoded data removed]"
          },
          "metadata": {}
        }
      ]
    },
    {
      "cell_type": "code",
      "source": [],
      "metadata": {
        "id": "_PWJs7keYgkr"
      },
      "execution_count": null,
      "outputs": []
    }
  ]
}